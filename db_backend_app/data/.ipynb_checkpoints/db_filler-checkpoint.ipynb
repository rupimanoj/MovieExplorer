{
 "cells": [
  {
   "cell_type": "code",
   "execution_count": 2,
   "metadata": {},
   "outputs": [],
   "source": [
    "import pickle\n",
    "import json\n",
    "import requests\n",
    "import time"
   ]
  },
  {
   "cell_type": "code",
   "execution_count": 4,
   "metadata": {},
   "outputs": [],
   "source": [
    "with open('movies_data.pkl', 'rb') as f:\n",
    "    url = 'http://localhost:5000/movies'\n",
    "    movies_data = pickle.load(f)\n",
    "    for data in movies_data:\n",
    "        payload = json.dumps(data)\n",
    "        headers = {'content-type': 'application/json', 'Accept-Charset': 'UTF-8'}\n",
    "        r = requests.post(url, data=payload, headers=headers)"
   ]
  },
  {
   "cell_type": "code",
   "execution_count": 3,
   "metadata": {},
   "outputs": [],
   "source": [
    "with open('studios_data.pkl', 'rb') as f:\n",
    "    url = 'http://localhost:5000/studios'\n",
    "    studios_data = pickle.load(f)\n",
    "    for data in studios_data:\n",
    "        payload = json.dumps(data)\n",
    "        headers = {'content-type': 'application/json', 'Accept-Charset': 'UTF-8'}\n",
    "        r = requests.post(url, data=payload, headers=headers)"
   ]
  },
  {
   "cell_type": "code",
   "execution_count": 5,
   "metadata": {},
   "outputs": [],
   "source": [
    "with open('theaters_data.pkl', 'rb') as f:\n",
    "    url = 'http://localhost:5000/theaters'\n",
    "    theaters_data = pickle.load(f)\n",
    "    for data in theaters_data:\n",
    "        payload = json.dumps(data)\n",
    "        headers = {'content-type': 'application/json', 'Accept-Charset': 'UTF-8'}\n",
    "        r = requests.post(url, data=payload, headers=headers)"
   ]
  },
  {
   "cell_type": "code",
   "execution_count": null,
   "metadata": {},
   "outputs": [],
   "source": [
    "with open('shows_data.pkl', 'rb') as f:\n",
    "    url = 'http://localhost:5000/shows'\n",
    "    shows_data = pickle.load(f)\n",
    "    for data in shows_data:\n",
    "        payload = json.dumps(data)\n",
    "        headers = {'content-type': 'application/json', 'Accept-Charset': 'UTF-8'}\n",
    "        r = requests.post(url, data=payload, headers=headers)"
   ]
  },
  {
   "cell_type": "code",
   "execution_count": 6,
   "metadata": {},
   "outputs": [],
   "source": [
    "with open('users_data.pkl', 'rb') as f:\n",
    "    url = 'http://localhost:5000/users'\n",
    "    users_data = pickle.load(f)\n",
    "    for data in users_data:\n",
    "        payload = json.dumps(data)\n",
    "        headers = {'content-type': 'application/json', 'Accept-Charset': 'UTF-8'}\n",
    "        r = requests.post(url, data=payload, headers=headers)"
   ]
  },
  {
   "cell_type": "code",
   "execution_count": 7,
   "metadata": {},
   "outputs": [],
   "source": [
    "with open('ratings_data.pkl', 'rb') as f:\n",
    "    url = 'http://localhost:5000/ratings'\n",
    "    ratings_data = pickle.load(f)\n",
    "    for data in ratings_data:\n",
    "        payload = json.dumps(data)\n",
    "        headers = {'content-type': 'application/json', 'Accept-Charset': 'UTF-8'}\n",
    "        r = requests.post(url, data=payload, headers=headers)"
   ]
  },
  {
   "cell_type": "code",
   "execution_count": 24,
   "metadata": {},
   "outputs": [
    {
     "data": {
      "text/plain": [
       "{'user_email_id': 'cenrico0@cloudflare.com', 'movie_id': 32, 'rating': 4}"
      ]
     },
     "execution_count": 24,
     "metadata": {},
     "output_type": "execute_result"
    }
   ],
   "source": [
    "ratings_data[0]"
   ]
  },
  {
   "cell_type": "code",
   "execution_count": null,
   "metadata": {},
   "outputs": [],
   "source": []
  }
 ],
 "metadata": {
  "kernelspec": {
   "display_name": "fun",
   "language": "python",
   "name": "fun"
  },
  "language_info": {
   "codemirror_mode": {
    "name": "ipython",
    "version": 3
   },
   "file_extension": ".py",
   "mimetype": "text/x-python",
   "name": "python",
   "nbconvert_exporter": "python",
   "pygments_lexer": "ipython3",
   "version": "3.7.4"
  }
 },
 "nbformat": 4,
 "nbformat_minor": 2
}
