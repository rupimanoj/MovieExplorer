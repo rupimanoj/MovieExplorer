{
 "cells": [
  {
   "cell_type": "code",
   "execution_count": 114,
   "metadata": {},
   "outputs": [],
   "source": [
    "import urllib.request\n",
    "from bs4 import BeautifulSoup\n",
    "import random\n",
    "import pickle"
   ]
  },
  {
   "cell_type": "code",
   "execution_count": 115,
   "metadata": {},
   "outputs": [],
   "source": [
    "texas_theaters_url = \"https://www.fandango.com/site-index/theaters/TX.html\""
   ]
  },
  {
   "cell_type": "code",
   "execution_count": 116,
   "metadata": {},
   "outputs": [],
   "source": [
    "theaters_data = []\n",
    "with urllib.request.urlopen(texas_theaters_url) as response:\n",
    "        page = response.read()\n",
    "        soup = BeautifulSoup(page, \"html.parser\").find('body')\n",
    "        rows = soup.findAll('a')\n",
    "        for row in rows:\n",
    "            theaters_map = {}\n",
    "            city = row.getText().split(\") \")[0][1:]\n",
    "            name = row.getText().split(\") \")[1]\n",
    "            if city.find(\"Closed\") != -1 or city.find(\"CLOSED\") != -1:\n",
    "                continue\n",
    "            if name.find(\"Closed\") != -1 or name.find(\"CLOSED\") != -1:\n",
    "                continue\n",
    "            theaters_map['city'] = city\n",
    "            theaters_map['theater_name'] = name\n",
    "            theaters_map['screens_count'] = random.randint(2,4)\n",
    "            theaters_map['state'] = \"Texas\"\n",
    "            theaters_data.append(theaters_map)"
   ]
  },
  {
   "cell_type": "code",
   "execution_count": 117,
   "metadata": {},
   "outputs": [],
   "source": [
    "with open('theaters_data.pkl', 'wb') as f:\n",
    "    pickle.dump(theaters_data, f)"
   ]
  },
  {
   "cell_type": "code",
   "execution_count": 118,
   "metadata": {},
   "outputs": [],
   "source": [
    "times = []\n",
    "for hours in range(10, 24):\n",
    "    for mins in range(0, 4):\n",
    "        extra = ''\n",
    "        if mins == 0:\n",
    "            extra = \"0\"\n",
    "        time = str(hours) + \":\" +  extra + str(mins * 15) + \":00\"\n",
    "        times.append(time)"
   ]
  },
  {
   "cell_type": "code",
   "execution_count": 119,
   "metadata": {},
   "outputs": [],
   "source": [
    "with open('movies_data.pkl', 'rb') as f:\n",
    "    url = 'http://localhost:5000/movies'\n",
    "    movies_data = pickle.load(f)"
   ]
  },
  {
   "cell_type": "code",
   "execution_count": 120,
   "metadata": {},
   "outputs": [],
   "source": [
    "latest_movies = []\n",
    "for movie in movies_data:\n",
    "    if movie['release_year'] == 2019.0:\n",
    "        latest_movies.append(movie)\n",
    "    if(len(latest_movies) == 30):\n",
    "        break"
   ]
  },
  {
   "cell_type": "code",
   "execution_count": 121,
   "metadata": {},
   "outputs": [],
   "source": [
    "dates = [ '2019-11-27', '2019-11-28']"
   ]
  },
  {
   "cell_type": "code",
   "execution_count": 122,
   "metadata": {},
   "outputs": [],
   "source": [
    "screen_names = ['A','B','C','D','1','2','3','4','5','6','8','X','Y','Z','M','N','P']\n",
    "shows = []"
   ]
  },
  {
   "cell_type": "code",
   "execution_count": 123,
   "metadata": {
    "scrolled": false
   },
   "outputs": [],
   "source": [
    "for date in dates:\n",
    "    for theater in theaters_data:\n",
    "        for i in range(theater['screens_count']):\n",
    "            screen_name = \"screen \" + screen_names[i]\n",
    "            theater_name = theater['theater_name']\n",
    "            city = theater['city']\n",
    "            start_time = random.randint(0,4)\n",
    "            for k in range(0, 4):\n",
    "                start_time_index = start_time\n",
    "                end_time_index = start_time + 9\n",
    "                show_start_time = times[start_time_index]\n",
    "                show_end_time = times[end_time_index]\n",
    "                movie_index = random.randint(0,len(latest_movies)-1)\n",
    "                movie = latest_movies[movie_index]\n",
    "                movie_name = movie['movie_name']\n",
    "                show_dict = {'screen_name': screen_name, 'theater_name': theater_name, 'city': city,\n",
    "                            'show_start_time': show_start_time, 'show_end_time':show_end_time,\n",
    "                             'movie_name': movie_name, 'show_date':date}\n",
    "                shows.append(show_dict)\n",
    "                start_time += 12"
   ]
  },
  {
   "cell_type": "code",
   "execution_count": 124,
   "metadata": {},
   "outputs": [],
   "source": [
    "with open('shows_data.pkl', 'wb') as f:\n",
    "    pickle.dump(shows, f)"
   ]
  },
  {
   "cell_type": "code",
   "execution_count": 125,
   "metadata": {},
   "outputs": [],
   "source": [
    "import json"
   ]
  },
  {
   "cell_type": "code",
   "execution_count": 126,
   "metadata": {},
   "outputs": [],
   "source": [
    "with open('movies_data.pkl', 'rb') as f:\n",
    "    url = 'http://localhost:5000/movies'\n",
    "    movies_data = pickle.load(f)\n",
    "directors_dict = {}\n",
    "movies_dict = {}\n",
    "for movie in movies_data:\n",
    "    directors_dict[movie['director']] = 1\n",
    "    movies_dict[movie['movie_name']] = 1\n",
    "directors, movies = list(directors_dict.keys()), list(movies_dict.keys())"
   ]
  },
  {
   "cell_type": "code",
   "execution_count": 131,
   "metadata": {
    "scrolled": false
   },
   "outputs": [],
   "source": [
    "users_data = []\n",
    "import random\n",
    "with open(\"user_data.json\") as json_file:\n",
    "    dataset = json.load(json_file)\n",
    "    for data in dataset:\n",
    "        didx = random.randint(0, len(directors)-1)\n",
    "        midx = random.randint(0, len(movies)-1)\n",
    "        data['fav_director'] = directors[didx]\n",
    "        data['fav_movie'] = movies[midx]\n",
    "        users_data.append(data)"
   ]
  },
  {
   "cell_type": "code",
   "execution_count": 132,
   "metadata": {},
   "outputs": [],
   "source": [
    "with open('users_data.pkl', 'wb') as f:\n",
    "    pickle.dump(users_data, f)"
   ]
  },
  {
   "cell_type": "code",
   "execution_count": 3,
   "metadata": {},
   "outputs": [
    {
     "data": {
      "text/plain": [
       "599"
      ]
     },
     "execution_count": 3,
     "metadata": {},
     "output_type": "execute_result"
    }
   ],
   "source": [
    "import pickle\n",
    "with open('movies_data.pkl', 'rb') as f:\n",
    "    movies_data = pickle.load(f)\n",
    "len(movies_data)"
   ]
  },
  {
   "cell_type": "code",
   "execution_count": 4,
   "metadata": {},
   "outputs": [
    {
     "data": {
      "text/plain": [
       "{'movie_name': 'The Bye Bye Man',\n",
       " 'production_studio': 'STX Entertainment',\n",
       " 'release_year': 2017.0,\n",
       " 'director': 'Stacy Title',\n",
       " 'producer': 'Trevor Macy',\n",
       " 'cast_and_crew': 'Douglas Smith,Lucien Laviscount,Cressida Bonas,Doug Jones,Carrie-Anne Moss,Faye Dunaway,Jenna Kanell',\n",
       " 'language': 'English',\n",
       " 'movie_category': 'Not updated'}"
      ]
     },
     "execution_count": 4,
     "metadata": {},
     "output_type": "execute_result"
    }
   ],
   "source": [
    "movies_data[0]"
   ]
  },
  {
   "cell_type": "code",
   "execution_count": 146,
   "metadata": {},
   "outputs": [],
   "source": [
    "ratings = []\n",
    "for user_data in users_data:\n",
    "    movie_idx_list = []\n",
    "    req_len = random.randint(5,11)\n",
    "    while len(movie_idx_list) <= req_len:\n",
    "        idx = random.randint(0, len(movies_data))\n",
    "        if idx not in movie_idx_list:\n",
    "            movie_idx_list.append(idx)\n",
    "    for idx in movie_idx_list:\n",
    "        rating_dict = {}\n",
    "        rating_dict['user_email_id'] = user_data['email']\n",
    "        rating_dict['movie_name'] = movies_data[idx]['movie_name']\n",
    "        rating_dict['release_year'] = movies_data[idx]['release_year']\n",
    "        rating_dict['rating'] = random.randint(1,10)\n",
    "        ratings.append(rating_dict)"
   ]
  },
  {
   "cell_type": "code",
   "execution_count": 147,
   "metadata": {},
   "outputs": [],
   "source": [
    "with open('ratings_data.pkl', 'wb') as f:\n",
    "    pickle.dump(ratings, f)"
   ]
  },
  {
   "cell_type": "code",
   "execution_count": null,
   "metadata": {},
   "outputs": [],
   "source": []
  }
 ],
 "metadata": {
  "kernelspec": {
   "display_name": "fun",
   "language": "python",
   "name": "fun"
  },
  "language_info": {
   "codemirror_mode": {
    "name": "ipython",
    "version": 3
   },
   "file_extension": ".py",
   "mimetype": "text/x-python",
   "name": "python",
   "nbconvert_exporter": "python",
   "pygments_lexer": "ipython3",
   "version": "3.7.4"
  }
 },
 "nbformat": 4,
 "nbformat_minor": 2
}
