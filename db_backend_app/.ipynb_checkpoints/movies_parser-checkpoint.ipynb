{
 "cells": [
  {
   "cell_type": "code",
   "execution_count": 42,
   "metadata": {},
   "outputs": [],
   "source": [
    "import urllib.request\n",
    "from bs4 import BeautifulSoup"
   ]
  },
  {
   "cell_type": "code",
   "execution_count": 43,
   "metadata": {},
   "outputs": [],
   "source": [
    "def get_all_tables():\n",
    "    tables = []\n",
    "    url_location_2017 = \"https://en.wikipedia.org/wiki/2017_in_film#2017_films\"\n",
    "    url_location_2018 = \"https://en.wikipedia.org/wiki/2018_in_film#2018_films\"\n",
    "    url_location_2019 = \"https://en.wikipedia.org/wiki/List_of_American_films_of_2019\"\n",
    "    for url_location in [url_location_2017, url_location_2018, url_location_2019]:\n",
    "        with urllib.request.urlopen(url_location) as response:\n",
    "            page = response.read()\n",
    "            soup = BeautifulSoup(page, \"html.parser\")\n",
    "            name_box = soup.findAll(\"table\", attrs={\"class\": \"wikitable sortable\"})\n",
    "            if(len(name_box) == 5):\n",
    "                name_box = name_box[1:]\n",
    "            for table in name_box:\n",
    "                tables.append(table)\n",
    "    return tables"
   ]
  },
  {
   "cell_type": "code",
   "execution_count": 44,
   "metadata": {},
   "outputs": [],
   "source": [
    "tables = get_all_tables()"
   ]
  },
  {
   "cell_type": "code",
   "execution_count": 45,
   "metadata": {
    "scrolled": false
   },
   "outputs": [],
   "source": [
    "movies_dict = {}\n",
    "studios_dict = {}\n",
    "for i in range(len(tables)):\n",
    "    rows = tables[i].find(\"tbody\")\n",
    "    rows = rows.findAll('tr')[5:100]\n",
    "    for row in rows:\n",
    "        cols = row.findAll('td')[0:3]\n",
    "        if len(cols) and cols[0].get(\"rowspan\"):\n",
    "            cols = cols[1:3]\n",
    "        else:\n",
    "            cols = cols[0:2]\n",
    "        if len(cols) and cols[0].find('a') and cols[1].find('a'):\n",
    "            movie_url = \"https://en.wikipedia.org\" + cols[0].find('a').get('href')\n",
    "            movie_title = cols[0].find('a').get('title')\n",
    "            studio_url = \"https://en.wikipedia.org\" + cols[1].find('a').get('href')\n",
    "            studio_title = cols[1].find('a').get('title')\n",
    "            year = 2017 + (i/4)\n",
    "            movies_dict[movie_title] = [movie_url, year, studio_title]\n",
    "            studios_dict[studio_title] = studio_url"
   ]
  },
  {
   "cell_type": "code",
   "execution_count": 46,
   "metadata": {},
   "outputs": [],
   "source": [
    "def get_studio_details(studio_url):\n",
    "    with urllib.request.urlopen(studio_url) as response:\n",
    "        page = response.read()\n",
    "        soup = BeautifulSoup(page, \"html.parser\")\n",
    "        info_box = soup.find(\"table\", attrs={\"class\": \"infobox\"})\n",
    "        if(not info_box):\n",
    "            return {}\n",
    "        info_box = info_box.find(\"tbody\")\n",
    "        rows = info_box.findAll(\"tr\")\n",
    "        details_map = {}\n",
    "        found = False\n",
    "        for row in rows:\n",
    "            heading = row.find(\"th\")\n",
    "            data = row.find(\"td\")\n",
    "            if heading and data:\n",
    "                heading = heading.getText()\n",
    "                data = data.getText()\n",
    "                if \"founder\" not in details_map.keys() and heading in [\"Founder\", \"Founders\", \"Founder(s)\", \"Parent\", \"Key people\", \"Owned by\"]:\n",
    "                    found = True\n",
    "                    details_map[\"founder\"] = data.split(\",\")[0]\n",
    "                if heading in [\"Headquarters\"]:\n",
    "                    details_map[\"head_quarters\"] = data\n",
    "                elif heading in [\"Website\", \"website\"]:\n",
    "                    details_map[\"website\"] = data\n",
    "    return details_map"
   ]
  },
  {
   "cell_type": "code",
   "execution_count": 47,
   "metadata": {},
   "outputs": [],
   "source": [
    "studios_data = []"
   ]
  },
  {
   "cell_type": "code",
   "execution_count": 48,
   "metadata": {},
   "outputs": [],
   "source": [
    "count = 0\n",
    "progress = 0\n",
    "for key, val in studios_dict.items():\n",
    "    details_map = get_studio_details(val)\n",
    "    studio_map = {}\n",
    "    studio_map['studio_name'] = key\n",
    "    studio_map['founder'] =  details_map['founder'] if 'founder' in details_map.keys() else \"Not found\"\n",
    "    studio_map['head_quarters'] = details_map['head_quarters'] if 'head_quarters' in details_map.keys() else \"Not found\"\n",
    "    studio_map['website'] = details_map['website'] if 'website' in details_map.keys() else \"Not found\"\n",
    "    studios_data.append(studio_map)"
   ]
  },
  {
   "cell_type": "code",
   "execution_count": 49,
   "metadata": {},
   "outputs": [],
   "source": [
    "import pickle\n",
    "with open('studios_data.pkl', 'wb') as f:\n",
    "    pickle.dump(studios_data, f)"
   ]
  },
  {
   "cell_type": "code",
   "execution_count": 398,
   "metadata": {},
   "outputs": [],
   "source": [
    "def get_movie_details(movie_url):\n",
    "    import re\n",
    "    details_dict = {}\n",
    "    with urllib.request.urlopen(movie_url) as response:\n",
    "        page = response.read()\n",
    "        soup = BeautifulSoup(page, \"html.parser\")\n",
    "        if(not soup):\n",
    "            return {}\n",
    "        info_box = soup.find(\"table\", attrs={\"class\": \"infobox vevent\"})\n",
    "        if(not info_box):\n",
    "            return {}\n",
    "        info_box= info_box.find(\"tbody\")\n",
    "        rows = info_box.findAll(\"tr\")\n",
    "        count = 0\n",
    "        for row in rows[1:]:\n",
    "            heading = row.find(\"th\")\n",
    "            if(heading):\n",
    "                field =  heading.getText()\n",
    "                details = []\n",
    "                data = row.find(\"td\")\n",
    "                if(data.find('div')):\n",
    "                    if(data.find('div', attrs={\"class\": \"plainlist\"})):\n",
    "                        elements = (data.find('div', attrs={\"class\": \"plainlist\"}).find('ul').findAll('li'))\n",
    "                        for ele in elements:\n",
    "                            details.append(ele.getText())\n",
    "                else:\n",
    "                    details.append(data.getText())\n",
    "\n",
    "                if field in [\"Directed by\", \"Produced by\"]:\n",
    "                    count += 1\n",
    "                    details_dict[field] = details[0]\n",
    "                elif field in [\"Starring\"]:\n",
    "                    count += 1\n",
    "                    starring = \"\"\n",
    "                    for star in details:\n",
    "                        starring += star\n",
    "                        starring += ','\n",
    "                    details_dict[field] = starring[:-1]\n",
    "                elif field in [\"Language\"]:\n",
    "                    count += 1\n",
    "                    if 'English' in details[0]:\n",
    "                        details_dict[field] = \"English\"\n",
    "                    else:\n",
    "                        details_dict[field] = \"Non English\"\n",
    "    return details_dict"
   ]
  },
  {
   "cell_type": "code",
   "execution_count": 399,
   "metadata": {},
   "outputs": [],
   "source": [
    "valid_movies = 0\n",
    "progress = 0"
   ]
  },
  {
   "cell_type": "code",
   "execution_count": 400,
   "metadata": {},
   "outputs": [],
   "source": [
    "movies_data = []"
   ]
  },
  {
   "cell_type": "code",
   "execution_count": 401,
   "metadata": {
    "scrolled": false
   },
   "outputs": [
    {
     "name": "stdout",
     "output_type": "stream",
     "text": [
      "30 26\n",
      "60 56\n",
      "90 82\n",
      "120 112\n",
      "150 141\n",
      "180 170\n",
      "210 198\n",
      "240 227\n",
      "270 256\n",
      "300 285\n",
      "330 315\n",
      "360 344\n",
      "390 374\n",
      "420 404\n",
      "450 434\n",
      "480 462\n",
      "510 492\n",
      "540 520\n",
      "570 549\n",
      "600 578\n"
     ]
    }
   ],
   "source": [
    "for key, val in movies_dict.items():\n",
    "    details = get_movie_details(val[0])\n",
    "    movie_map = {}\n",
    "    if(len(details) == 4):\n",
    "        movie_map['movie_name'] = key\n",
    "        movie_map['production_studio'] = val[2]\n",
    "        movie_map['release_year'] = val[1]\n",
    "        movie_map['director'] = details['Directed by']\n",
    "        movie_map['producer'] = details['Produced by']\n",
    "        movie_map['cast_and_crew'] = details['Starring']\n",
    "        movie_map['language'] = details['Language']\n",
    "        movie_map['movie_category'] = \"Not updated\"\n",
    "        movies_data.append(movie_map)\n",
    "        valid_movies += 1\n",
    "    progress += 1\n",
    "    if progress%30 == 0:\n",
    "        print(progress, valid_movies)"
   ]
  },
  {
   "cell_type": "code",
   "execution_count": 404,
   "metadata": {},
   "outputs": [],
   "source": [
    "import pickle\n",
    "with open('movies_data.pkl', 'wb') as f:\n",
    "    pickle.dump(movies_data, f)"
   ]
  },
  {
   "cell_type": "code",
   "execution_count": 405,
   "metadata": {},
   "outputs": [],
   "source": [
    "with open('movies_data.pkl', 'rb') as f:\n",
    "    mynewlist = pickle.load(f)"
   ]
  },
  {
   "cell_type": "code",
   "execution_count": 39,
   "metadata": {},
   "outputs": [],
   "source": [
    "import requests\n",
    "import time\n",
    "url = 'http://localhost:5000/studios'"
   ]
  },
  {
   "cell_type": "code",
   "execution_count": 40,
   "metadata": {},
   "outputs": [],
   "source": [
    "count = 0\n",
    "for data in studios_data:\n",
    "    payload = json.dumps(data)\n",
    "    headers = {'content-type': 'application/json', 'Accept-Charset': 'UTF-8'}\n",
    "    r = requests.post(url, data=payload, headers=headers)"
   ]
  }
 ],
 "metadata": {
  "kernelspec": {
   "display_name": "fun",
   "language": "python",
   "name": "fun"
  },
  "language_info": {
   "codemirror_mode": {
    "name": "ipython",
    "version": 3
   },
   "file_extension": ".py",
   "mimetype": "text/x-python",
   "name": "python",
   "nbconvert_exporter": "python",
   "pygments_lexer": "ipython3",
   "version": "3.7.4"
  }
 },
 "nbformat": 4,
 "nbformat_minor": 2
}
